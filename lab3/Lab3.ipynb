{
 "cells": [
  {
   "cell_type": "markdown",
   "metadata": {},
   "source": [
    "# Laboratorium 3"
   ]
  },
  {
   "cell_type": "markdown",
   "metadata": {},
   "source": [
    "Konrad Dębiec"
   ]
  },
  {
   "cell_type": "markdown",
   "metadata": {},
   "source": [
    "### Static Huffman compression"
   ]
  },
  {
   "cell_type": "code",
   "execution_count": 2,
   "metadata": {},
   "outputs": [],
   "source": [
    "from bitarray import bitarray\n",
    "\n",
    "\n",
    "class StaticHuffmanAlgorithm:\n",
    "    class Node:\n",
    "        def __init__(self, letter='', freq=0, left=None, right=None):\n",
    "            self.freq = freq\n",
    "            self.letter = letter\n",
    "            self.left = left\n",
    "            self.right = right\n",
    "\n",
    "        def __repr__(self):\n",
    "            return \"(\" + str(self.freq) + \" \" + str(self.letter) + \")\"\n",
    "\n",
    "        def __lt__(self, other):\n",
    "            return self.freq < other.freq\n",
    "\n",
    "    def __init__(self, decoded_filename='', encoded_filename='', encode=True):\n",
    "        self.encoded_filename = encoded_filename\n",
    "        self.decoded_filename = decoded_filename\n",
    "        self.encode = encode\n",
    "        self.codes = {}\n",
    "        self.tree = None\n",
    "        self.letters_freq = {}\n",
    "        self.codes_counter = 0\n",
    "        self.encoded_data = bitarray()\n",
    "\n",
    "        if encode:\n",
    "            self.compress_to_file()\n",
    "        else:\n",
    "            self.decompress_from_file()\n",
    "\n",
    "    def build_huffman_tree(self):\n",
    "        leafs = sorted([self.Node(l, w) for (l, w) in self.letters_freq.items()],\n",
    "                       key=lambda n: n.freq)\n",
    "        internal_nodes = []\n",
    "\n",
    "        while len(leafs) + len(internal_nodes) > 1:\n",
    "            head = []\n",
    "\n",
    "            if len(leafs) >= 2:\n",
    "                head += leafs[:2]\n",
    "            elif len(leafs) == 1:\n",
    "                head += leafs[:1]\n",
    "\n",
    "            if len(internal_nodes) >= 2:\n",
    "                head += internal_nodes[:2]\n",
    "            elif len(internal_nodes) == 1:\n",
    "                head += internal_nodes[:1]\n",
    "\n",
    "            element_1, element_2 = sorted(head)[:2]\n",
    "            internal_nodes.append(self.Node(freq=element_1.freq + element_2.freq,\n",
    "                                            left=element_1,\n",
    "                                            right=element_2))\n",
    "            if len(leafs) and element_1 == leafs[0]:\n",
    "                leafs = leafs[1:]\n",
    "            else:\n",
    "                internal_nodes = internal_nodes[1:]\n",
    "\n",
    "            if len(leafs) and element_2 == leafs[0]:\n",
    "                leafs = leafs[1:]\n",
    "            else:\n",
    "                internal_nodes = internal_nodes[1:]\n",
    "\n",
    "        self.tree = internal_nodes[0]\n",
    "\n",
    "    def build_freq_dict(self):\n",
    "        with open(self.decoded_filename, \"r\") as f:\n",
    "            data = f.read()\n",
    "            for a in data:\n",
    "                if a not in self.letters_freq:\n",
    "                    self.letters_freq[a] = 1\n",
    "                else:\n",
    "                    self.letters_freq[a] += 1\n",
    "\n",
    "    def generate_codes(self, node, code):\n",
    "        if node.letter == '':\n",
    "            self.generate_codes(node.left, code + bitarray('1'))\n",
    "            self.generate_codes(node.right, code + bitarray('0'))\n",
    "        else:\n",
    "            self.codes[node.letter] = code\n",
    "\n",
    "    def _encode_tree(self, node, encoded_tree):\n",
    "        if node.right.letter == '':\n",
    "            encoded_tree.append(False)\n",
    "            self._encode_tree(node.right, encoded_tree)\n",
    "        else:\n",
    "            encoded_tree.append(True)\n",
    "            encoded_tree.frombytes(node.right.letter.encode())\n",
    "\n",
    "        if node.left.letter == '':\n",
    "            encoded_tree.append(False)\n",
    "            self._encode_tree(node.left, encoded_tree)\n",
    "        else:\n",
    "            encoded_tree.append(True)\n",
    "            encoded_tree.frombytes(node.left.letter.encode())\n",
    "\n",
    "    def encode_tree(self):\n",
    "        encoded_tree = bitarray()\n",
    "        self._encode_tree(self.tree, encoded_tree)\n",
    "        return encoded_tree\n",
    "\n",
    "    def _decode_tree(self, node, number_of_codes):\n",
    "        if number_of_codes == self.codes_counter:\n",
    "            return\n",
    "\n",
    "        if self.encoded_data[0]:\n",
    "            self.encoded_data = self.encoded_data[1:]\n",
    "            node.right = self.Node(letter=self.encoded_data[:8].tobytes().decode())\n",
    "            self.encoded_data = self.encoded_data[8:]\n",
    "            self.codes_counter += 1\n",
    "        else:\n",
    "            node.right = self.Node()\n",
    "            self.encoded_data = self.encoded_data[1:]\n",
    "            self._decode_tree(node.right, number_of_codes)\n",
    "\n",
    "        if number_of_codes == self.codes_counter:\n",
    "            return\n",
    "\n",
    "        if self.encoded_data[0]:\n",
    "            self.encoded_data = self.encoded_data[1:]\n",
    "            node.left = self.Node(letter=self.encoded_data[:8].tobytes().decode())\n",
    "            self.encoded_data = self.encoded_data[8:]\n",
    "            self.codes_counter += 1\n",
    "        else:\n",
    "            node.left = self.Node()\n",
    "            self.encoded_data = self.encoded_data[1:]\n",
    "            self._decode_tree(node.left, number_of_codes)\n",
    "\n",
    "    def decode_tree(self, number_of_codes):\n",
    "        self.tree = self.Node()\n",
    "        self._decode_tree(self.tree, number_of_codes)\n",
    "\n",
    "    def compress_to_file(self):\n",
    "        self.build_freq_dict()\n",
    "        self.build_huffman_tree()\n",
    "        self.generate_codes(self.tree, bitarray())\n",
    "        encoded_tree = self.encode_tree()\n",
    "        encoded_text = bitarray()\n",
    "\n",
    "        with open(self.decoded_filename, \"r\") as f:\n",
    "            data = f.read()\n",
    "            encoded_text.encode(self.codes, data)\n",
    "\n",
    "        with open(self.encoded_filename, \"wb\") as f:\n",
    "            number_of_codes = len(self.codes)\n",
    "            c = bitarray()\n",
    "            c.frombytes(number_of_codes.to_bytes(1, 'big'))\n",
    "            offset = 8 - (c.length() + encoded_tree.length() + encoded_text.length()) % 8\n",
    "            offset_bit = bitarray()\n",
    "            offset_bit.frombytes(offset.to_bytes(1, 'big'))\n",
    "            f.write(offset_bit + bitarray([False] * offset) + c + encoded_tree + encoded_text)\n",
    "\n",
    "    def decompress_from_file(self):\n",
    "        with open(self.encoded_filename, 'rb') as f:\n",
    "            self.encoded_data.fromfile(f)\n",
    "\n",
    "        encoded_offset = self.encoded_data[:8]\n",
    "        self.encoded_data = self.encoded_data[8:]\n",
    "        offset = int.from_bytes(encoded_offset.tobytes(), 'big')\n",
    "        self.encoded_data = self.encoded_data[offset:]\n",
    "\n",
    "        encoded_number_of_codes = self.encoded_data[:8]\n",
    "        self.encoded_data = self.encoded_data[8:]\n",
    "        number_of_codes = int.from_bytes(encoded_number_of_codes.tobytes(), 'big')\n",
    "        self.decode_tree(number_of_codes)\n",
    "        code = bitarray()\n",
    "        self.generate_codes(self.tree, code)\n",
    "\n",
    "        with open(self.decoded_filename, \"w\") as f:\n",
    "            f.write(''.join(self.encoded_data.decode(self.codes)))"
   ]
  },
  {
   "cell_type": "markdown",
   "metadata": {},
   "source": [
    "### Format pliku przechowującego dane"
   ]
  },
  {
   "cell_type": "markdown",
   "metadata": {},
   "source": [
    "Plik składa się z następujących danych:\n",
    " - offset - 8 bitów - przechowuje ile następnych cyfr uzupełnia cały plik do wielokrotności 8\n",
    " - następnie jest offset cyfr 0 uzupełniających cały plik do wielokrotności 8\n",
    " - number_of_codes - 8 bitów - przechowuje ile jest liter w zakodowanym tekście\n",
    " - encoded_tree - zakodowane drzewo\n",
    " - encoded_text - zakodowany tekst"
   ]
  },
  {
   "cell_type": "markdown",
   "metadata": {},
   "source": [
    "### Sprawdzenie poprawności, mierzenie współczynnika kompresji oraz czasu kompresji i dekompresji"
   ]
  },
  {
   "cell_type": "code",
   "execution_count": 37,
   "metadata": {},
   "outputs": [],
   "source": [
    "import time\n",
    "import os\n",
    "from pathlib import Path\n",
    "import filecmp\n",
    "\n",
    "def testCompression(filename):\n",
    "    start = time.time()\n",
    "    compressed = StaticHuffmanAlgorithm(filename+\".txt\", filename+\"_compressed\")\n",
    "    end = time.time()\n",
    "    print(\"Czas kompresji: \" + str(end - start))\n",
    "    \n",
    "    print(\"Współczynnik kompresji: \")\n",
    "    print(str(100*Path(filename+'_compressed').stat().st_size/Path(filename+'.txt').stat().st_size) + \"%\")\n",
    "    \n",
    "    start = time.time()\n",
    "    decompressed = StaticHuffmanAlgorithm(filename+\"_decompressed.txt\", filename+\"_compressed\", False)\n",
    "    end = time.time()\n",
    "    print(\"Czas dekompresji: \" + str(end - start))\n",
    "    \n",
    "    if filecmp.cmp(filename+'.txt', filename+'_decompressed.txt'):\n",
    "        print(\"Plik wejściowy i wynikowy jest taki sam\")\n",
    "    else:\n",
    "        print(\"Plik wejściowy i wynikowy różnią się\")"
   ]
  },
  {
   "cell_type": "markdown",
   "metadata": {},
   "source": [
    "### Test pliku 1kb"
   ]
  },
  {
   "cell_type": "code",
   "execution_count": 38,
   "metadata": {},
   "outputs": [
    {
     "name": "stdout",
     "output_type": "stream",
     "text": [
      "Czas kompresji: 0.005689859390258789\n",
      "Współczynnik kompresji: \n",
      "82.06627680311891%\n",
      "Czas dekompresji: 0.014542102813720703\n",
      "Plik wejściowy i wynikowy jest taki sam\n"
     ]
    }
   ],
   "source": [
    "testCompression(\"tests/1kb\")"
   ]
  },
  {
   "cell_type": "markdown",
   "metadata": {},
   "source": [
    "### Test pliku 10kb"
   ]
  },
  {
   "cell_type": "code",
   "execution_count": 39,
   "metadata": {},
   "outputs": [
    {
     "name": "stdout",
     "output_type": "stream",
     "text": [
      "Czas kompresji: 0.0064868927001953125\n",
      "Współczynnik kompresji: \n",
      "75.48330404217926%\n",
      "Czas dekompresji: 0.09153366088867188\n",
      "Plik wejściowy i wynikowy jest taki sam\n"
     ]
    }
   ],
   "source": [
    "testCompression(\"tests/10kb\")"
   ]
  },
  {
   "cell_type": "markdown",
   "metadata": {},
   "source": [
    "### Test pliku 100kb"
   ]
  },
  {
   "cell_type": "code",
   "execution_count": 40,
   "metadata": {},
   "outputs": [
    {
     "name": "stdout",
     "output_type": "stream",
     "text": [
      "Czas kompresji: 0.036667823791503906\n",
      "Współczynnik kompresji: \n",
      "74.6474609375%\n",
      "Czas dekompresji: 0.846895694732666\n",
      "Plik wejściowy i wynikowy jest taki sam\n"
     ]
    }
   ],
   "source": [
    "testCompression(\"tests/100kb\")"
   ]
  },
  {
   "cell_type": "markdown",
   "metadata": {},
   "source": [
    "### Test pliku 1000kb"
   ]
  },
  {
   "cell_type": "code",
   "execution_count": 41,
   "metadata": {},
   "outputs": [
    {
     "name": "stdout",
     "output_type": "stream",
     "text": [
      "Czas kompresji: 0.285891056060791\n",
      "Współczynnik kompresji: \n",
      "74.77822265625%\n",
      "Czas dekompresji: 8.639173746109009\n",
      "Plik wejściowy i wynikowy jest taki sam\n"
     ]
    }
   ],
   "source": [
    "testCompression(\"tests/1000kb\")"
   ]
  }
 ],
 "metadata": {
  "kernelspec": {
   "display_name": "Python 3",
   "language": "python",
   "name": "python3"
  },
  "language_info": {
   "codemirror_mode": {
    "name": "ipython",
    "version": 3
   },
   "file_extension": ".py",
   "mimetype": "text/x-python",
   "name": "python",
   "nbconvert_exporter": "python",
   "pygments_lexer": "ipython3",
   "version": "3.7.4"
  }
 },
 "nbformat": 4,
 "nbformat_minor": 2
}
